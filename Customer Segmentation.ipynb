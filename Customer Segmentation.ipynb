{
 "cells": [
  {
   "cell_type": "markdown",
   "id": "2bfd50cb",
   "metadata": {},
   "source": [
    "## Customer Segmentation "
   ]
  },
  {
   "cell_type": "markdown",
   "id": "21387190",
   "metadata": {},
   "source": [
    "### Importing the libraries"
   ]
  },
  {
   "cell_type": "code",
   "execution_count": 27,
   "id": "37d91d54",
   "metadata": {},
   "outputs": [],
   "source": [
    "import numpy as np\n",
    "import matplotlib.pyplot as plt\n",
    "import pandas as pd\n",
    "from sklearn.preprocessing import StandardScaler"
   ]
  },
  {
   "cell_type": "markdown",
   "id": "d6cf3d19",
   "metadata": {},
   "source": [
    "### Importing the dataset"
   ]
  },
  {
   "cell_type": "code",
   "execution_count": 28,
   "id": "7fcc8821",
   "metadata": {},
   "outputs": [],
   "source": [
    "dataset = pd.read_csv('Customer Analysis.csv')"
   ]
  },
  {
   "cell_type": "code",
   "execution_count": 29,
   "id": "8bd7ea88",
   "metadata": {},
   "outputs": [
    {
     "data": {
      "text/html": [
       "<div>\n",
       "<style scoped>\n",
       "    .dataframe tbody tr th:only-of-type {\n",
       "        vertical-align: middle;\n",
       "    }\n",
       "\n",
       "    .dataframe tbody tr th {\n",
       "        vertical-align: top;\n",
       "    }\n",
       "\n",
       "    .dataframe thead th {\n",
       "        text-align: right;\n",
       "    }\n",
       "</style>\n",
       "<table border=\"1\" class=\"dataframe\">\n",
       "  <thead>\n",
       "    <tr style=\"text-align: right;\">\n",
       "      <th></th>\n",
       "      <th>Cust Id</th>\n",
       "      <th>RFM</th>\n",
       "      <th>Recency</th>\n",
       "      <th>Frequency</th>\n",
       "      <th>Monetory Value</th>\n",
       "    </tr>\n",
       "  </thead>\n",
       "  <tbody>\n",
       "    <tr>\n",
       "      <th>0</th>\n",
       "      <td>85775</td>\n",
       "      <td>444</td>\n",
       "      <td>117</td>\n",
       "      <td>131</td>\n",
       "      <td>9431.53</td>\n",
       "    </tr>\n",
       "    <tr>\n",
       "      <th>1</th>\n",
       "      <td>85775</td>\n",
       "      <td>444</td>\n",
       "      <td>159</td>\n",
       "      <td>127</td>\n",
       "      <td>221208.19</td>\n",
       "    </tr>\n",
       "    <tr>\n",
       "      <th>2</th>\n",
       "      <td>85775</td>\n",
       "      <td>444</td>\n",
       "      <td>264</td>\n",
       "      <td>102</td>\n",
       "      <td>9874.84</td>\n",
       "    </tr>\n",
       "    <tr>\n",
       "      <th>3</th>\n",
       "      <td>85775</td>\n",
       "      <td>444</td>\n",
       "      <td>136</td>\n",
       "      <td>93</td>\n",
       "      <td>3909.32</td>\n",
       "    </tr>\n",
       "    <tr>\n",
       "      <th>4</th>\n",
       "      <td>85775</td>\n",
       "      <td>444</td>\n",
       "      <td>136</td>\n",
       "      <td>85</td>\n",
       "      <td>124324.13</td>\n",
       "    </tr>\n",
       "  </tbody>\n",
       "</table>\n",
       "</div>"
      ],
      "text/plain": [
       "   Cust Id  RFM  Recency  Frequency   Monetory Value \n",
       "0    85775  444      117        131           9431.53\n",
       "1    85775  444      159        127         221208.19\n",
       "2    85775  444      264        102           9874.84\n",
       "3    85775  444      136         93           3909.32\n",
       "4    85775  444      136         85         124324.13"
      ]
     },
     "execution_count": 29,
     "metadata": {},
     "output_type": "execute_result"
    }
   ],
   "source": [
    "dataset.head()"
   ]
  },
  {
   "cell_type": "code",
   "execution_count": 30,
   "id": "22b97e43",
   "metadata": {},
   "outputs": [],
   "source": [
    "X = dataset.iloc[:, 2:5].values"
   ]
  },
  {
   "cell_type": "code",
   "execution_count": 31,
   "id": "2323c41e",
   "metadata": {},
   "outputs": [
    {
     "data": {
      "text/plain": [
       "array([[1.1700000e+02, 1.3100000e+02, 9.4315300e+03],\n",
       "       [1.5900000e+02, 1.2700000e+02, 2.2120819e+05],\n",
       "       [2.6400000e+02, 1.0200000e+02, 9.8748400e+03],\n",
       "       ...,\n",
       "       [3.5000000e+02, 1.0000000e+00, 1.6000000e+02],\n",
       "       [3.4900000e+02, 1.0000000e+00, 7.0000000e+01],\n",
       "       [2.4000000e+02, 1.0000000e+00, 1.0500000e+02]])"
      ]
     },
     "execution_count": 31,
     "metadata": {},
     "output_type": "execute_result"
    }
   ],
   "source": [
    "X"
   ]
  },
  {
   "cell_type": "code",
   "execution_count": 34,
   "id": "d913ef83",
   "metadata": {},
   "outputs": [],
   "source": [
    "sc_X = StandardScaler()"
   ]
  },
  {
   "cell_type": "code",
   "execution_count": 35,
   "id": "e275c5a7",
   "metadata": {},
   "outputs": [],
   "source": [
    "X = sc_X.fit_transform(X)"
   ]
  },
  {
   "cell_type": "code",
   "execution_count": 36,
   "id": "6eda0743",
   "metadata": {},
   "outputs": [
    {
     "data": {
      "text/plain": [
       "array([[-1.77458561, 31.30929355,  1.13516494],\n",
       "       [-1.05022369, 30.33278591, 36.6765897 ],\n",
       "       [ 0.76068112, 24.2296132 ,  1.20956346],\n",
       "       ...,\n",
       "       [ 2.24389839, -0.42720458, -0.42082988],\n",
       "       [ 2.22665168, -0.42720458, -0.43593413],\n",
       "       [ 0.34676002, -0.42720458, -0.43006026]])"
      ]
     },
     "execution_count": 36,
     "metadata": {},
     "output_type": "execute_result"
    }
   ],
   "source": [
    "X"
   ]
  },
  {
   "cell_type": "markdown",
   "id": "b1d33a50",
   "metadata": {},
   "source": [
    "### Using elbow method to find the optimal number of clusters"
   ]
  },
  {
   "cell_type": "code",
   "execution_count": null,
   "id": "585e0720",
   "metadata": {},
   "outputs": [],
   "source": [
    "from sklearn.cluster import KMeans\n",
    "wcss = []\n",
    "for i in range(1, 11):\n",
    "    kmeans = KMeans(n_clusters = i, init = 'k-means++', random_state = 42)\n",
    "    kmeans.fit(X)\n",
    "    wcss.append(kmeans.inertia_)\n",
    "plt.plot(range(1, 11), wcss)\n",
    "plt.title('The Elbow Method')\n",
    "plt.xlabel('Number of clusters')\n",
    "plt.ylabel('WCSS')\n",
    "plt.show()"
   ]
  },
  {
   "cell_type": "markdown",
   "id": "b9f5ddb5",
   "metadata": {},
   "source": [
    "### Training the K-Means model on the dataset"
   ]
  },
  {
   "cell_type": "code",
   "execution_count": 23,
   "id": "d4c3342c",
   "metadata": {},
   "outputs": [],
   "source": [
    "kmeans = KMeans(n_clusters = 4, init = 'k-means++', random_state = 42)\n",
    "y_kmeans = kmeans.fit_predict(X)"
   ]
  },
  {
   "cell_type": "code",
   "execution_count": 24,
   "id": "c2bf087b",
   "metadata": {},
   "outputs": [
    {
     "data": {
      "text/plain": [
       "array([2, 2, 2, ..., 1, 1, 1])"
      ]
     },
     "execution_count": 24,
     "metadata": {},
     "output_type": "execute_result"
    }
   ],
   "source": [
    "y_kmeans"
   ]
  },
  {
   "cell_type": "code",
   "execution_count": 25,
   "id": "454f9a7b",
   "metadata": {},
   "outputs": [],
   "source": [
    "dataset['Predicted class'] = y_kmeans"
   ]
  },
  {
   "cell_type": "code",
   "execution_count": 26,
   "id": "a2ce4ab2",
   "metadata": {},
   "outputs": [],
   "source": [
    "dataset.to_csv('Customer RFM Segment.csv')"
   ]
  },
  {
   "cell_type": "code",
   "execution_count": null,
   "id": "870fb496",
   "metadata": {},
   "outputs": [],
   "source": []
  }
 ],
 "metadata": {
  "kernelspec": {
   "display_name": "Python 3 (ipykernel)",
   "language": "python",
   "name": "python3"
  },
  "language_info": {
   "codemirror_mode": {
    "name": "ipython",
    "version": 3
   },
   "file_extension": ".py",
   "mimetype": "text/x-python",
   "name": "python",
   "nbconvert_exporter": "python",
   "pygments_lexer": "ipython3",
   "version": "3.9.13"
  }
 },
 "nbformat": 4,
 "nbformat_minor": 5
}
